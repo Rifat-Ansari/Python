{
  "nbformat": 4,
  "nbformat_minor": 0,
  "metadata": {
    "colab": {
      "name": "HKR_D6.ipynb",
      "provenance": [],
      "authorship_tag": "ABX9TyP3pCmABqNkqIZg4tSHXoNB",
      "include_colab_link": true
    },
    "kernelspec": {
      "name": "python3",
      "display_name": "Python 3"
    },
    "language_info": {
      "name": "python"
    }
  },
  "cells": [
    {
      "cell_type": "markdown",
      "metadata": {
        "id": "view-in-github",
        "colab_type": "text"
      },
      "source": [
        "<a href=\"https://colab.research.google.com/github/Rifat-Ansari/Python/blob/PS/HKR_D6.ipynb\" target=\"_parent\"><img src=\"https://colab.research.google.com/assets/colab-badge.svg\" alt=\"Open In Colab\"/></a>"
      ]
    },
    {
      "cell_type": "markdown",
      "source": [
        "#30 Days of Code Section\n",
        "\n",
        "Given a string, , of length  that is indexed from  to , print its even-indexed and odd-indexed characters as  space-separated strings on a single line (see the Sample below for more detail).\n",
        "\n",
        "```\n",
        "Note: it is considered to be an even index.\n",
        "```"
      ],
      "metadata": {
        "id": "5U-bT9UKRkea"
      }
    },
    {
      "cell_type": "code",
      "source": [
        "b=input()\n",
        "a=int(b)"
      ],
      "metadata": {
        "colab": {
          "base_uri": "https://localhost:8080/"
        },
        "id": "CTR5HRYZR34S",
        "outputId": "5b057ce0-2ca5-45f4-ad89-35d90e83fd00"
      },
      "execution_count": 54,
      "outputs": [
        {
          "name": "stdout",
          "output_type": "stream",
          "text": [
            "2\n"
          ]
        }
      ]
    },
    {
      "cell_type": "code",
      "source": [
        "x=[]\n",
        "i=0\n",
        "for i in range(a):\n",
        "  m=input()\n",
        "  x.append(m)\n",
        "\n",
        "\n",
        "print(x)\n"
      ],
      "metadata": {
        "colab": {
          "base_uri": "https://localhost:8080/"
        },
        "id": "Mac7cO0MSObJ",
        "outputId": "bae63e5f-28fb-4960-ec34-78db32c5e205"
      },
      "execution_count": 55,
      "outputs": [
        {
          "output_type": "stream",
          "name": "stdout",
          "text": [
            "Hacker\n",
            "Rank\n",
            "['Hacker', 'Rank']\n"
          ]
        }
      ]
    },
    {
      "cell_type": "code",
      "source": [
        "i=0\n",
        "j=0\n",
        "l=0\n",
        "k=0\n",
        "for i in range(a):\n",
        "  y=x[i]\n",
        "  t=list(y)\n",
        "  p=[]\n",
        "  q=[]\n",
        "  for j in range(len(t)):\n",
        "    if(j%2==0):\n",
        "      p.append(t[j])\n",
        "    else:\n",
        "      q.append(t[j])\n",
        "  \n",
        "\n",
        "  e= ''.join(map(str, p))\n",
        "  f= ''.join(map(str, q))\n",
        "  fin=e+\" \"+f\n",
        "  print(fin)\n",
        "\n"
      ],
      "metadata": {
        "colab": {
          "base_uri": "https://localhost:8080/"
        },
        "id": "eow27wn3dQ_O",
        "outputId": "c283a586-5d79-42e0-ccdb-7d4ae3fadb1d"
      },
      "execution_count": 56,
      "outputs": [
        {
          "output_type": "stream",
          "name": "stdout",
          "text": [
            "Hce akr\n",
            "Rn ak\n"
          ]
        }
      ]
    }
  ]
}